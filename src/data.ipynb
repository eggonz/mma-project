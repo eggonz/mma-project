{
 "cells": [
  {
   "cell_type": "code",
   "execution_count": 2,
   "metadata": {},
   "outputs": [],
   "source": [
    "import json\n",
    "import pandas as pd"
   ]
  },
  {
   "cell_type": "code",
   "execution_count": 4,
   "metadata": {},
   "outputs": [],
   "source": [
    "with open(\"../data/ads.jsonlines\", encoding=\"utf8\") as fp:\n",
    "    data = fp.readlines()\n",
    "\n",
    "parsed = [json.loads(d) for d in data]"
   ]
  },
  {
   "cell_type": "code",
   "execution_count": 5,
   "metadata": {},
   "outputs": [],
   "source": [
    "df = pd.json_normalize(parsed)"
   ]
  },
  {
   "cell_type": "code",
   "execution_count": 48,
   "metadata": {},
   "outputs": [],
   "source": [
    "labels = dict(zip(['A+++++', 'A++++', 'A+++', 'A++', 'A+', 'A', 'B', 'C', 'D', 'E', 'F', 'G', 'Not'], range(1, 14)))\n",
    "\n",
    "\n",
    "df[\"images\"] = df[\"images_paths\"]\n",
    "df[\"lat\"] = df[\"geolocation.lat\"]\n",
    "df[\"lon\"] = df[\"geolocation.lon\"]\n",
    "\n",
    "\n",
    "df[\"city\"] = df[\"location_part2\"].str.split().str[2]\n",
    "df[\"price\"] = pd.to_numeric(df[\"price\"].str.split().str[1].str.replace(\",\", \"\"), errors=\"coerce\")\n",
    "df[\"living_area_size\"] = df[\"highlights.living area\"].str.split().str[0].str.replace(\",\", \"\").astype(float)\n",
    "df[\"nr_bedrooms\"] = df[\"highlights.bedrooms\"].astype(float)\n",
    "df[\"energy_label\"] = df[\"features.energy.energy label\"].str.split().str[0].map(labels)"
   ]
  },
  {
   "cell_type": "code",
   "execution_count": 56,
   "metadata": {},
   "outputs": [],
   "source": [
    "df = df[[\"images\", \"lat\", \"lon\", \"city\", \"price\", \"living_area_size\", \"nr_bedrooms\", \"energy_label\"]]"
   ]
  },
  {
   "cell_type": "code",
   "execution_count": null,
   "metadata": {},
   "outputs": [],
   "source": [
    "df.query(\"city == 'Eindhoven' and nr_bedrooms == 3\")"
   ]
  }
 ],
 "metadata": {
  "kernelspec": {
   "display_name": "venv",
   "language": "python",
   "name": "python3"
  },
  "language_info": {
   "codemirror_mode": {
    "name": "ipython",
    "version": 3
   },
   "file_extension": ".py",
   "mimetype": "text/x-python",
   "name": "python",
   "nbconvert_exporter": "python",
   "pygments_lexer": "ipython3",
   "version": "3.11.3"
  },
  "orig_nbformat": 4
 },
 "nbformat": 4,
 "nbformat_minor": 2
}
